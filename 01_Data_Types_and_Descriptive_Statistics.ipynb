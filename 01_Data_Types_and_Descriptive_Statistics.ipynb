{
  "nbformat": 4,
  "nbformat_minor": 0,
  "metadata": {
    "colab": {
      "provenance": []
    },
    "kernelspec": {
      "name": "python3",
      "display_name": "Python 3"
    },
    "language_info": {
      "name": "python"
    }
  },
  "cells": [
    {
      "cell_type": "markdown",
      "source": [
        "Step 1: Create a sample pavement dataset ---\n"
      ],
      "metadata": {
        "id": "ky8KdPDkkGQN"
      }
    },
    {
      "cell_type": "code",
      "execution_count": null,
      "metadata": {
        "id": "WGc5LNkpPK8t"
      },
      "outputs": [],
      "source": [
        "import pandas as pd\n",
        "import numpy as np\n",
        "from scipy import stats\n",
        "\n",
        "data = {\n",
        "    'Section': ['S1','S2','S3','S4','S5','S6','S7','S8'],\n",
        "    'Surface': ['Asphalt','Asphalt','Concrete','Asphalt','Concrete','Asphalt','Asphalt','Concrete'],\n",
        "    'Traffic': ['High','Medium','Low','High','Medium','Low','Medium','High'],\n",
        "    'Age': [12,8,5,15,10,7,9,20],\n",
        "    'IRI': [4.2,3.1,1.8,4.8,2.5,3.0,3.3,4.5],\n",
        "    'Crack': [35,25,5,40,10,18,20,32],\n",
        "    'PCI': [45,60,88,40,80,70,68,500],\n",
        "    'Rut': [14,10,5,16,6,8,9,12]\n",
        "}\n",
        "\n",
        "df = pd.DataFrame(data)\n",
        "print(\"=== Pavement Dataset ===\")\n",
        "print(df, \"\\n\")\n",
        "print(df.shape)\n",
        "print(df.dtypes)\n",
        "print(df.info())\n"
      ]
    },
    {
      "cell_type": "markdown",
      "source": [
        "Step 2: Basic descriptive statistics ---\n"
      ],
      "metadata": {
        "id": "C7F1lKVJkYd5"
      }
    },
    {
      "cell_type": "code",
      "source": [
        "print(\"=== Descriptive Statistics ===\")\n",
        "print(df[['Age','IRI','Crack','PCI','Rut']].describe(), \"\\n\")"
      ],
      "metadata": {
        "id": "yS-a3DKzkZop"
      },
      "execution_count": null,
      "outputs": []
    },
    {
      "cell_type": "markdown",
      "source": [
        "Step 3: Mean, Median, Mode ---\n",
        "What is the average roughness (IRI) of our network?\n",
        "If one section is extremely poor, does it affect overall assessment?\n",
        "Which surface type dominates the network?"
      ],
      "metadata": {
        "id": "lyqr1MR7knz-"
      }
    },
    {
      "cell_type": "code",
      "source": [
        "mean_iri = df['IRI'].mean()\n",
        "median_iri = df['IRI'].median()\n",
        "mode_surface = df['Surface'].mode()[0]\n",
        "print(f\"Mean IRI: {mean_iri:.2f}\")\n",
        "print(f\"Median IRI: {median_iri:.2f}\")\n",
        "print(f\"Mode Surface Type: {mode_surface}\")\n",
        "print(\"Inference: The network has moderate roughness (mean IRI ~3.4), mostly Asphalt pavements.\\n\")"
      ],
      "metadata": {
        "id": "DluKSVCiko5M"
      },
      "execution_count": null,
      "outputs": []
    },
    {
      "cell_type": "markdown",
      "source": [
        "Step 4: Standard Deviation and Variance ---\n",
        "Is performance consistent across the network?"
      ],
      "metadata": {
        "id": "-dkWzsWjlfVl"
      }
    },
    {
      "cell_type": "code",
      "source": [
        "std_pci = df['PCI'].std()\n",
        "var_pci = df['PCI'].var()\n",
        "print(f\"Standard Deviation of PCI: {std_pci:.2f}\")\n",
        "print(f\"Variance of PCI: {var_pci:.2f}\")\n",
        "print(\"Inference: High standard deviation indicates uneven performance; some pavements are failing while others are good.\\n\")"
      ],
      "metadata": {
        "id": "LYlkywetlfr6"
      },
      "execution_count": null,
      "outputs": []
    },
    {
      "cell_type": "markdown",
      "source": [
        "Step 5: Quartiles (Q1, Q3, IQR) ---\n",
        "What proportion of roads are critical vs. acceptable?"
      ],
      "metadata": {
        "id": "5jqx_Qx8lvhU"
      }
    },
    {
      "cell_type": "code",
      "source": [
        "Q1 = df['PCI'].quantile(0.25)\n",
        "Q3 = df['PCI'].quantile(0.75)\n",
        "IQR = Q3 - Q1\n",
        "print(f\"Q1 (25th percentile): {Q1:.2f}\")\n",
        "print(f\"Q3 (75th percentile): {Q3:.2f}\")\n",
        "print(f\"IQR (Interquartile Range): {IQR:.2f}\")\n",
        "print(\"Inference: 25% of pavements below PCI 48 need urgent rehabilitation.\\n\")"
      ],
      "metadata": {
        "id": "UntVncMulvR3"
      },
      "execution_count": null,
      "outputs": []
    },
    {
      "cell_type": "markdown",
      "source": [
        "Step 6: Skewness and Kurtosis ---\n",
        "Is the distribution of PCI biased toward poor or good pavements?\n",
        "Are there extreme conditions in pavement performance?"
      ],
      "metadata": {
        "id": "6-YuZMqtl6jn"
      }
    },
    {
      "cell_type": "code",
      "source": [
        "skew_pci = stats.skew(df['PCI'])\n",
        "kurt_pci = stats.kurtosis(df['PCI'])\n",
        "print(f\"Skewness of PCI: {skew_pci:.2f}\")\n",
        "print(f\"Kurtosis of PCI: {kurt_pci:.2f}\")\n",
        "if skew_pci < 0:\n",
        "    print(\"Inference: Left-skewed → majority of pavements are in good condition, few are very poor.\")\n",
        "else:\n",
        "    print(\"Inference: Right-skewed → most pavements are poor, few are excellent.\")\n",
        "print(f\"Kurtosis ({kurt_pci:.2f}) → peaked distribution, indicating most PCI values cluster near the mean.\\n\")"
      ],
      "metadata": {
        "id": "pkhgzZ_Vl6Wv"
      },
      "execution_count": null,
      "outputs": []
    },
    {
      "cell_type": "markdown",
      "source": [
        "Step 7: Covariance and Correlation ---\n",
        "Does older pavement tend to have higher roughness?\n",
        "How strong is the relationship between Age and PCI?"
      ],
      "metadata": {
        "id": "DCwJV4v2mKnk"
      }
    },
    {
      "cell_type": "code",
      "source": [
        "cov_age_pci = df['Age'].cov(df['PCI'])\n",
        "corr_age_pci = df['Age'].corr(df['PCI'])\n",
        "corr_matrix = df[['Age','IRI','Crack','PCI','Rut']].corr()\n",
        "\n",
        "print(f\"Covariance (Age vs PCI): {cov_age_pci:.2f}\")\n",
        "print(f\"Correlation (Age vs PCI): {corr_age_pci:.2f}\")\n",
        "print(\"Inference: Negative correlation (r ≈ -0.85) shows that as age increases, PCI drops sharply.\\n\")\n",
        "\n",
        "print(\"=== Correlation Matrix ===\")\n",
        "print(corr_matrix, \"\\n\")"
      ],
      "metadata": {
        "id": "Kv1zBWRHmKbo"
      },
      "execution_count": null,
      "outputs": []
    }
  ]
}